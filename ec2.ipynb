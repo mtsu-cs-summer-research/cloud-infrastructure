{
 "cells": [
  {
   "cell_type": "markdown",
   "metadata": {},
   "source": [
    "# Launching an EC2 Instance"
   ]
  },
  {
   "cell_type": "markdown",
   "metadata": {},
   "source": [
    "This guide will walk you through launching an Elastic Cloud Computing (EC2) instance. "
   ]
  },
  {
   "cell_type": "markdown",
   "metadata": {},
   "source": [
    "## EC2 features\n",
    "* Virtual computing environments, or instances.\n",
    "* Various configurations of CPU, memory, storage, and networking capacity for your instances (instance types).\n",
    "* Amazon Machine Images (AMIs) that come preconfigured with the OS and software you need. \n",
    "\n",
    "More info can be found here https://docs.aws.amazon.com/AWSEC2/latest/UserGuide/concepts.html."
   ]
  },
  {
   "cell_type": "markdown",
   "metadata": {},
   "source": [
    "## Getting Started"
   ]
  },
  {
   "cell_type": "markdown",
   "metadata": {},
   "source": [
    "To begin, log into the AWS Management Console. "
   ]
  },
  {
   "cell_type": "markdown",
   "metadata": {},
   "source": [
    "### AWS Management Console"
   ]
  },
  {
   "cell_type": "markdown",
   "metadata": {},
   "source": [
    "![Image](./awsmanagementconsole.png)"
   ]
  },
  {
   "cell_type": "markdown",
   "metadata": {},
   "source": [
    "From the management console, you can access/manage all of the services AWS offers. To continue, go to the EC2 Dashboard. You can find it by clicking on 'EC2' under the 'Services' drop-down menu, or by searching for it in the 'Find Services' search box. "
   ]
  },
  {
   "cell_type": "markdown",
   "metadata": {},
   "source": [
    "### EC2 Dashboard"
   ]
  },
  {
   "cell_type": "markdown",
   "metadata": {},
   "source": [
    "![Image](./ec2dash.png)"
   ]
  },
  {
   "cell_type": "markdown",
   "metadata": {},
   "source": [
    "The EC2 Dashboard is the central hub for all of your EC2 resources. From here you can manage your instances, AMIs, key pairs, and security groups. To launch an instance, click on the blue 'Launch Instance' box near the center of the page."
   ]
  },
  {
   "cell_type": "markdown",
   "metadata": {},
   "source": [
    "### Choose an AMI"
   ]
  },
  {
   "cell_type": "markdown",
   "metadata": {},
   "source": [
    "![Image](./chooseAMI.png)"
   ]
  },
  {
   "cell_type": "markdown",
   "metadata": {},
   "source": [
    "You can choose to launch an AMI you've already created, an AMI provided by AWS, or an AMI from the user community. In this guide we're going to select 'Amazon Linux AMI 2018.03.0,' which comes with some of the tools we'll need (AWS command line tools, Python, etc.). "
   ]
  },
  {
   "cell_type": "markdown",
   "metadata": {},
   "source": [
    "### Choose an Instance Type"
   ]
  },
  {
   "cell_type": "markdown",
   "metadata": {},
   "source": [
    "![Image](./instancetype.png)"
   ]
  },
  {
   "cell_type": "markdown",
   "metadata": {},
   "source": [
    "Next, you'll need to choose an instance type. To keep things free, we'll stick with the 't2.micro.' "
   ]
  },
  {
   "cell_type": "markdown",
   "metadata": {},
   "source": [
    "### Instance details"
   ]
  },
  {
   "cell_type": "markdown",
   "metadata": {},
   "source": [
    "![Image](./instancedetails.png)"
   ]
  },
  {
   "cell_type": "markdown",
   "metadata": {},
   "source": [
    "After choosing your instance type, you can choose how many instances to launch. For the time being, we'll only need one. On this page there are other things we can modify, however, we'll leave those unchanged. "
   ]
  },
  {
   "cell_type": "markdown",
   "metadata": {},
   "source": [
    "### Add Storage"
   ]
  },
  {
   "cell_type": "markdown",
   "metadata": {},
   "source": [
    "![Image](./addstorage.png)"
   ]
  },
  {
   "cell_type": "markdown",
   "metadata": {},
   "source": [
    "Now it's time to add storage. The free tier gives us up to 30 GB of EBS General Purpose (SSD) or Magnetic storage. "
   ]
  },
  {
   "cell_type": "markdown",
   "metadata": {},
   "source": [
    "### Add tags"
   ]
  },
  {
   "cell_type": "markdown",
   "metadata": {},
   "source": [
    "![Image](./addtags.png)"
   ]
  },
  {
   "cell_type": "markdown",
   "metadata": {},
   "source": [
    "You can continue without adding any tags. Tags are merely for helping you categorize your AWS resources. "
   ]
  },
  {
   "cell_type": "markdown",
   "metadata": {},
   "source": [
    "### Security Group"
   ]
  },
  {
   "cell_type": "markdown",
   "metadata": {},
   "source": [
    "![Image](./securitygroup.png)"
   ]
  },
  {
   "cell_type": "markdown",
   "metadata": {},
   "source": [
    "We'll leave these settings unchanged. However, if you wanted to restrict the traffic that can reach your instance this would be the place to do it. You can restrict from which ports your instance can be reached, as well as what range of IP addresses can access your instance. "
   ]
  },
  {
   "cell_type": "markdown",
   "metadata": {},
   "source": [
    "### Review and Key Pair"
   ]
  },
  {
   "cell_type": "markdown",
   "metadata": {},
   "source": [
    "![Image](./reviewdetails.png)"
   ]
  },
  {
   "cell_type": "markdown",
   "metadata": {},
   "source": [
    "Before launching you'll be able to review your instance one last time."
   ]
  },
  {
   "cell_type": "markdown",
   "metadata": {},
   "source": [
    "The next part is very important! You'll need to create a new key pair. This key is what will allow you to connect to your instance. "
   ]
  },
  {
   "cell_type": "markdown",
   "metadata": {},
   "source": [
    "![Image](./keypair.png)"
   ]
  },
  {
   "cell_type": "markdown",
   "metadata": {},
   "source": [
    "Select 'Create new key' from the first drop-down menu and give it a name. Make sure to save this key somewhere you'll remember. You will need to path to it to connect to your instance. "
   ]
  },
  {
   "cell_type": "markdown",
   "metadata": {},
   "source": [
    "## Your instance is now launched!!"
   ]
  },
  {
   "cell_type": "markdown",
   "metadata": {},
   "source": [
    "# Connecting to your Instance"
   ]
  },
  {
   "cell_type": "markdown",
   "metadata": {},
   "source": [
    "After having launched our instance, we are ready to connect to it. To begin, go back to the EC2 Dashboard and click on 'Instances' on the right hand side of the page. \n",
    "\n",
    "It should look like this."
   ]
  },
  {
   "cell_type": "markdown",
   "metadata": {},
   "source": [
    "![Image](./instances.png)"
   ]
  },
  {
   "cell_type": "markdown",
   "metadata": {},
   "source": [
    "From here we can monitor any instances we may have, as well as perform actions on them (Stop, Terminate, Start, etc.). Scrolling down, underneath description you'll see 'Public DNS (IPv4).'"
   ]
  },
  {
   "cell_type": "markdown",
   "metadata": {},
   "source": [
    "![Image](./connectip.png)"
   ]
  },
  {
   "cell_type": "markdown",
   "metadata": {},
   "source": [
    "You'll need this to connect to your instance. To continue open up a terminal (or the command prompt). "
   ]
  },
  {
   "cell_type": "markdown",
   "metadata": {},
   "source": [
    "To ssh into your instance, you will need to do \"ssh -i /path/to/key user@ec2-18-220-93-203.us-east-2.compute.amazonaws.com.\" User, in this case, will depend on the AMI specified when you launched your instance. For Amazon Linux 2 or the Amazon Linux AMI, user will be 'ec2-user.' \n",
    "\n",
    "I would ssh into my instance by performing...\n",
    "\n",
    "ssh -i ~/Downloads/mykey.pem ec2-user@ec2-18-220-93-203.us-east-2.compute.amazonaws.com\n",
    "\n"
   ]
  },
  {
   "cell_type": "markdown",
   "metadata": {},
   "source": [
    "### Warning: Permissions too open. It is required your that your private key files not be accessible by others."
   ]
  },
  {
   "cell_type": "markdown",
   "metadata": {},
   "source": [
    "If you get a message like this you will need to change the permissions of your key. This can be accomplished by using chmod.\n",
    "\n",
    "To change the permissions to read-only...\n",
    "\n",
    "chmod 400 ~/path/to/key.pem\n",
    "\n",
    "or\n",
    "\n",
    "chmod 400 your-key.pem"
   ]
  },
  {
   "cell_type": "markdown",
   "metadata": {},
   "source": [
    "### Once you've changed the permissions of your key, you should be able to connect ssh into your instance as shown above. "
   ]
  },
  {
   "cell_type": "code",
   "execution_count": null,
   "metadata": {},
   "outputs": [],
   "source": []
  }
 ],
 "metadata": {
  "kernelspec": {
   "display_name": "Python 3",
   "language": "python",
   "name": "python3"
  },
  "language_info": {
   "codemirror_mode": {
    "name": "ipython",
    "version": 3
   },
   "file_extension": ".py",
   "mimetype": "text/x-python",
   "name": "python",
   "nbconvert_exporter": "python",
   "pygments_lexer": "ipython3",
   "version": "3.7.4"
  }
 },
 "nbformat": 4,
 "nbformat_minor": 4
}
